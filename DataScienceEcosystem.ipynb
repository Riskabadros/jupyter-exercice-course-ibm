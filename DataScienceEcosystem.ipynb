{
 "cells": [
  {
   "cell_type": "markdown",
   "id": "4b7abb3c-cf92-4178-81e0-c923d74a3763",
   "metadata": {},
   "source": [
    "# Data Science Tools and Ecosystem"
   ]
  },
  {
   "cell_type": "markdown",
   "id": "8cc21f97-a6fb-4650-863a-1dcc64cfda7b",
   "metadata": {},
   "source": [
    "In this notebook, Data Science Tools and Ecosystem are summarized.\n"
   ]
  },
  {
   "cell_type": "markdown",
   "id": "7fb82005-8ef3-44ef-93c0-f65b706ac69e",
   "metadata": {},
   "source": [
    "**Objectives:**\n",
    "\n",
    "   -  subject 1 : List popular languages for Data Science.\n",
    "   -  subject 2 : libraries in Data Science.\n",
    "   -  subject 3 : Data Science tools and development environments.\n",
    "   -  subject 4 : arithmetic expressions in Python.\n",
    "   -  subject 5 :Convert minutes to hours .\n",
    "## Author \n",
    "Ayoub Rachchad\n"
   ]
  },
  {
   "cell_type": "markdown",
   "id": "dd221082-8c87-4d25-95af-aaca32253094",
   "metadata": {},
   "source": [
    "Some of the popular languages that Data Scientists use are:\n",
    " 1. R\n",
    " 2. python\n",
    " 3. SQL"
   ]
  },
  {
   "cell_type": "markdown",
   "id": "9a951478-2277-4781-b371-3b378f9e0844",
   "metadata": {},
   "source": [
    "Some of the commonly used libraries used by Data Scientists include:\n",
    " 1. pandas\n",
    " 2. numphy\n",
    " 3. scikit-learn\n"
   ]
  },
  {
   "cell_type": "markdown",
   "id": "483da8ea-ed28-4fc1-9e91-ac97a4a4125f",
   "metadata": {},
   "source": [
    "# Data Science Tools\n",
    "\n",
    " '''''''''''''''''''''\n",
    "| Data Science Tools  |\n",
    "-----------------------\n",
    "|                     | \n",
    "| 1.Rstudio           | \n",
    "|                     | \n",
    "| 2.Jupyter Notbook   |\n",
    "|                     |\n",
    "| 3. VS code          | \n",
    "-----------------------"
   ]
  },
  {
   "cell_type": "markdown",
   "id": "7f371fe1-c70e-4b51-bf36-eb020bf89665",
   "metadata": {},
   "source": [
    "### Below are a few examples of evaluating arithmetic expressions in Python.\n"
   ]
  },
  {
   "cell_type": "code",
   "execution_count": 26,
   "id": "6a931e95-4af7-477f-802e-2b53a5f1e339",
   "metadata": {},
   "outputs": [
    {
     "name": "stdout",
     "output_type": "stream",
     "text": [
      "15\n"
     ]
    }
   ],
   "source": [
    "x = 3 \n",
    "y = 5\n",
    "z = x * y\n",
    "print(z)\n",
    "\n",
    "z = x / y\n",
    "print(z)\n",
    "\n",
    "z = x + y\n",
    "print(z)\n",
    "\n",
    "z = x - y\n",
    "print(z)\n"
   ]
  },
  {
   "cell_type": "code",
   "execution_count": 16,
   "id": "9159d681-c5db-4b92-8899-62d04b7717df",
   "metadata": {},
   "outputs": [
    {
     "data": {
      "text/plain": [
       "8"
      ]
     },
     "execution_count": 16,
     "metadata": {},
     "output_type": "execute_result"
    }
   ],
   "source": [
    "12 - 4"
   ]
  },
  {
   "cell_type": "markdown",
   "id": "7e34b48f-2546-4dc3-bb38-00a0d73b04ed",
   "metadata": {},
   "source": [
    "# This a simple arithmetic expression to mutiply then add integers"
   ]
  },
  {
   "cell_type": "code",
   "execution_count": 27,
   "id": "87691bf4-4723-4922-90c3-c54dae20fa2f",
   "metadata": {},
   "outputs": [
    {
     "data": {
      "text/plain": [
       "17"
      ]
     },
     "execution_count": 27,
     "metadata": {},
     "output_type": "execute_result"
    }
   ],
   "source": [
    "result =(3*4)+5\n",
    "result"
   ]
  },
  {
   "cell_type": "markdown",
   "id": "a454fca8-6d98-49f9-b4d4-8060092b6032",
   "metadata": {},
   "source": [
    "# This will convert 200 minutes to hours by diving by 60."
   ]
  },
  {
   "cell_type": "code",
   "execution_count": 31,
   "id": "951f5a52-a6d9-4154-b875-62eff68aa39e",
   "metadata": {},
   "outputs": [
    {
     "name": "stdout",
     "output_type": "stream",
     "text": [
      "3.3333333333333335\n"
     ]
    }
   ],
   "source": [
    "minutes = 200\n",
    "hours = minutes/ 60\n",
    "print(hours)"
   ]
  },
  {
   "cell_type": "code",
   "execution_count": null,
   "id": "7bf1f8be-c314-4f2d-85e7-dc88bafdd94f",
   "metadata": {},
   "outputs": [],
   "source": []
  }
 ],
 "metadata": {
  "kernelspec": {
   "display_name": "Python 3 (ipykernel)",
   "language": "python",
   "name": "python3"
  },
  "language_info": {
   "codemirror_mode": {
    "name": "ipython",
    "version": 3
   },
   "file_extension": ".py",
   "mimetype": "text/x-python",
   "name": "python",
   "nbconvert_exporter": "python",
   "pygments_lexer": "ipython3",
   "version": "3.11.7"
  }
 },
 "nbformat": 4,
 "nbformat_minor": 5
}
